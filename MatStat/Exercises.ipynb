{
 "cells": [
  {
   "cell_type": "code",
   "execution_count": 1,
   "id": "eba38b68-b1b6-4927-89ab-bd97b4c67dfe",
   "metadata": {},
   "outputs": [],
   "source": [
    "from statkit import (seriesBuilder as SB, stattools)\n",
    "\n",
    "import numpy as np"
   ]
  },
  {
   "cell_type": "code",
   "execution_count": 2,
   "id": "d1f32a11-c0a4-40f0-8f2d-b2bbc01b47d5",
   "metadata": {},
   "outputs": [],
   "source": [
    "data = np.array([\n",
    "    (None, 400, 32), \n",
    "    (400, 600, 56),\n",
    "    (600, 800, 120),\n",
    "    (800, 1000, 104),\n",
    "    (1000, None, 88)\n",
    "                ])"
   ]
  },
  {
   "cell_type": "code",
   "execution_count": 3,
   "id": "33d574f9-81ea-4e6c-b8c7-35ee89a15c08",
   "metadata": {
    "tags": []
   },
   "outputs": [],
   "source": [
    "ivs = SB.intervalVariationSeries(data)"
   ]
  },
  {
   "cell_type": "code",
   "execution_count": 4,
   "id": "16a140dd-83c0-4b9a-b76a-61530f85c288",
   "metadata": {
    "tags": []
   },
   "outputs": [
    {
     "data": {
      "text/html": [
       "<div>\n",
       "<style scoped>\n",
       "    .dataframe tbody tr th:only-of-type {\n",
       "        vertical-align: middle;\n",
       "    }\n",
       "\n",
       "    .dataframe tbody tr th {\n",
       "        vertical-align: top;\n",
       "    }\n",
       "\n",
       "    .dataframe thead th {\n",
       "        text-align: right;\n",
       "    }\n",
       "</style>\n",
       "<table border=\"1\" class=\"dataframe\">\n",
       "  <thead>\n",
       "    <tr style=\"text-align: right;\">\n",
       "      <th></th>\n",
       "      <th>left</th>\n",
       "      <th>right</th>\n",
       "      <th>x</th>\n",
       "      <th>n</th>\n",
       "      <th>h</th>\n",
       "      <th>w</th>\n",
       "      <th>n/h</th>\n",
       "      <th>w/h</th>\n",
       "      <th>w_cum</th>\n",
       "    </tr>\n",
       "  </thead>\n",
       "  <tbody>\n",
       "    <tr>\n",
       "      <th>0</th>\n",
       "      <td>200.0</td>\n",
       "      <td>400.0</td>\n",
       "      <td>300.0</td>\n",
       "      <td>32.0</td>\n",
       "      <td>200.0</td>\n",
       "      <td>0.08</td>\n",
       "      <td>0.16</td>\n",
       "      <td>0.0004</td>\n",
       "      <td>0.08</td>\n",
       "    </tr>\n",
       "    <tr>\n",
       "      <th>1</th>\n",
       "      <td>400.0</td>\n",
       "      <td>600.0</td>\n",
       "      <td>500.0</td>\n",
       "      <td>56.0</td>\n",
       "      <td>200.0</td>\n",
       "      <td>0.14</td>\n",
       "      <td>0.28</td>\n",
       "      <td>0.0007</td>\n",
       "      <td>0.22</td>\n",
       "    </tr>\n",
       "    <tr>\n",
       "      <th>2</th>\n",
       "      <td>600.0</td>\n",
       "      <td>800.0</td>\n",
       "      <td>700.0</td>\n",
       "      <td>120.0</td>\n",
       "      <td>200.0</td>\n",
       "      <td>0.30</td>\n",
       "      <td>0.6</td>\n",
       "      <td>0.0015</td>\n",
       "      <td>0.52</td>\n",
       "    </tr>\n",
       "    <tr>\n",
       "      <th>3</th>\n",
       "      <td>800.0</td>\n",
       "      <td>1000.0</td>\n",
       "      <td>900.0</td>\n",
       "      <td>104.0</td>\n",
       "      <td>200.0</td>\n",
       "      <td>0.26</td>\n",
       "      <td>0.52</td>\n",
       "      <td>0.0013</td>\n",
       "      <td>0.78</td>\n",
       "    </tr>\n",
       "    <tr>\n",
       "      <th>4</th>\n",
       "      <td>1000.0</td>\n",
       "      <td>1200.0</td>\n",
       "      <td>1100.0</td>\n",
       "      <td>88.0</td>\n",
       "      <td>200.0</td>\n",
       "      <td>0.22</td>\n",
       "      <td>0.44</td>\n",
       "      <td>0.0011</td>\n",
       "      <td>1.00</td>\n",
       "    </tr>\n",
       "    <tr>\n",
       "      <th>Total</th>\n",
       "      <td>3000.0</td>\n",
       "      <td>4000.0</td>\n",
       "      <td>3500.0</td>\n",
       "      <td>400.0</td>\n",
       "      <td>1000.0</td>\n",
       "      <td>1.00</td>\n",
       "      <td>2.0</td>\n",
       "      <td>0.005</td>\n",
       "      <td>2.60</td>\n",
       "    </tr>\n",
       "  </tbody>\n",
       "</table>\n",
       "</div>"
      ],
      "text/plain": [
       "         left   right       x      n       h     w   n/h     w/h  w_cum\n",
       "0       200.0   400.0   300.0   32.0   200.0  0.08  0.16  0.0004   0.08\n",
       "1       400.0   600.0   500.0   56.0   200.0  0.14  0.28  0.0007   0.22\n",
       "2       600.0   800.0   700.0  120.0   200.0  0.30   0.6  0.0015   0.52\n",
       "3       800.0  1000.0   900.0  104.0   200.0  0.26  0.52  0.0013   0.78\n",
       "4      1000.0  1200.0  1100.0   88.0   200.0  0.22  0.44  0.0011   1.00\n",
       "Total  3000.0  4000.0  3500.0  400.0  1000.0  1.00   2.0   0.005   2.60"
      ]
     },
     "execution_count": 4,
     "metadata": {},
     "output_type": "execute_result"
    }
   ],
   "source": [
    "ivs.table"
   ]
  },
  {
   "cell_type": "code",
   "execution_count": 5,
   "id": "42c4eea6-4ac7-47cf-9c17-7fc61327b178",
   "metadata": {},
   "outputs": [],
   "source": [
    "stats = stattools.Stats(ivs)"
   ]
  },
  {
   "cell_type": "code",
   "execution_count": 6,
   "id": "5f2ca173-6f74-41ce-838f-3eebd81e00f3",
   "metadata": {},
   "outputs": [
    {
     "data": {
      "text/html": [
       "<div>\n",
       "<style scoped>\n",
       "    .dataframe tbody tr th:only-of-type {\n",
       "        vertical-align: middle;\n",
       "    }\n",
       "\n",
       "    .dataframe tbody tr th {\n",
       "        vertical-align: top;\n",
       "    }\n",
       "\n",
       "    .dataframe thead th {\n",
       "        text-align: right;\n",
       "    }\n",
       "</style>\n",
       "<table border=\"1\" class=\"dataframe\">\n",
       "  <thead>\n",
       "    <tr style=\"text-align: right;\">\n",
       "      <th></th>\n",
       "      <th>mean</th>\n",
       "      <th>mode</th>\n",
       "      <th>median</th>\n",
       "      <th>range</th>\n",
       "      <th>abs_dev</th>\n",
       "      <th>disp</th>\n",
       "      <th>UB disp</th>\n",
       "      <th>std</th>\n",
       "      <th>UB_std</th>\n",
       "      <th>coeff var</th>\n",
       "    </tr>\n",
       "  </thead>\n",
       "  <tbody>\n",
       "    <tr>\n",
       "      <th>0</th>\n",
       "      <td>780.0</td>\n",
       "      <td>760.0</td>\n",
       "      <td>786.67</td>\n",
       "      <td>800.0</td>\n",
       "      <td>203.2</td>\n",
       "      <td>57600.0</td>\n",
       "      <td>57744.36</td>\n",
       "      <td>240.0</td>\n",
       "      <td>240.3</td>\n",
       "      <td>30.77</td>\n",
       "    </tr>\n",
       "  </tbody>\n",
       "</table>\n",
       "</div>"
      ],
      "text/plain": [
       "    mean   mode  median  range  abs_dev     disp   UB disp    std  UB_std  \\\n",
       "0  780.0  760.0  786.67  800.0    203.2  57600.0  57744.36  240.0   240.3   \n",
       "\n",
       "   coeff var  \n",
       "0      30.77  "
      ]
     },
     "execution_count": 6,
     "metadata": {},
     "output_type": "execute_result"
    }
   ],
   "source": [
    "stats.show_stats()"
   ]
  }
 ],
 "metadata": {
  "kernelspec": {
   "display_name": "Python 3 (ipykernel)",
   "language": "python",
   "name": "python3"
  },
  "language_info": {
   "codemirror_mode": {
    "name": "ipython",
    "version": 3
   },
   "file_extension": ".py",
   "mimetype": "text/x-python",
   "name": "python",
   "nbconvert_exporter": "python",
   "pygments_lexer": "ipython3",
   "version": "3.10.9"
  }
 },
 "nbformat": 4,
 "nbformat_minor": 5
}
