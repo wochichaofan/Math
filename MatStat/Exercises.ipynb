{
 "cells": [
  {
   "cell_type": "code",
   "execution_count": 121,
   "id": "eba38b68-b1b6-4927-89ab-bd97b4c67dfe",
   "metadata": {},
   "outputs": [],
   "source": [
    "from statkit import (seriesBuilder as SB, stattools)\n",
    "from statkit.functions import *\n",
    "from statkit.distributions import *\n",
    "\n",
    "import numpy as np"
   ]
  },
  {
   "cell_type": "code",
   "execution_count": 18,
   "id": "66707c85-d87c-4b9b-937d-620b5c2e7fd3",
   "metadata": {},
   "outputs": [],
   "source": [
    "with open('primer39.csv', 'r', encoding='utf-8') as file:\n",
    "    data = list(i.split(';')[0] for i in file.readlines())[1:]"
   ]
  },
  {
   "cell_type": "code",
   "execution_count": 21,
   "id": "4f256404-d8c7-486d-8960-918f41f15712",
   "metadata": {},
   "outputs": [],
   "source": [
    "data = list(map(int, data))"
   ]
  },
  {
   "cell_type": "code",
   "execution_count": 23,
   "id": "191ba822-d679-4d8e-ada4-b971d55b6fc3",
   "metadata": {},
   "outputs": [],
   "source": [
    "series = SB.intervalVariationSeries(data)"
   ]
  },
  {
   "cell_type": "code",
   "execution_count": 24,
   "id": "a0eda216-97b0-4d3b-8367-04e54166a797",
   "metadata": {},
   "outputs": [
    {
     "data": {
      "text/html": [
       "<div>\n",
       "<style scoped>\n",
       "    .dataframe tbody tr th:only-of-type {\n",
       "        vertical-align: middle;\n",
       "    }\n",
       "\n",
       "    .dataframe tbody tr th {\n",
       "        vertical-align: top;\n",
       "    }\n",
       "\n",
       "    .dataframe thead th {\n",
       "        text-align: right;\n",
       "    }\n",
       "</style>\n",
       "<table border=\"1\" class=\"dataframe\">\n",
       "  <thead>\n",
       "    <tr style=\"text-align: right;\">\n",
       "      <th></th>\n",
       "      <th>left</th>\n",
       "      <th>right</th>\n",
       "      <th>x</th>\n",
       "      <th>n</th>\n",
       "      <th>h</th>\n",
       "      <th>w</th>\n",
       "      <th>n/h</th>\n",
       "      <th>w/h</th>\n",
       "      <th>w_cum</th>\n",
       "    </tr>\n",
       "  </thead>\n",
       "  <tbody>\n",
       "    <tr>\n",
       "      <th>0</th>\n",
       "      <td>82.0</td>\n",
       "      <td>89.0</td>\n",
       "      <td>85.5</td>\n",
       "      <td>2.0</td>\n",
       "      <td>7.0</td>\n",
       "      <td>0.039216</td>\n",
       "      <td>0.285714</td>\n",
       "      <td>0.005602</td>\n",
       "      <td>0.039216</td>\n",
       "    </tr>\n",
       "    <tr>\n",
       "      <th>1</th>\n",
       "      <td>89.0</td>\n",
       "      <td>96.0</td>\n",
       "      <td>92.5</td>\n",
       "      <td>2.0</td>\n",
       "      <td>7.0</td>\n",
       "      <td>0.039216</td>\n",
       "      <td>0.285714</td>\n",
       "      <td>0.005602</td>\n",
       "      <td>0.078431</td>\n",
       "    </tr>\n",
       "    <tr>\n",
       "      <th>2</th>\n",
       "      <td>96.0</td>\n",
       "      <td>103.0</td>\n",
       "      <td>99.5</td>\n",
       "      <td>10.0</td>\n",
       "      <td>7.0</td>\n",
       "      <td>0.196078</td>\n",
       "      <td>1.428571</td>\n",
       "      <td>0.028011</td>\n",
       "      <td>0.274510</td>\n",
       "    </tr>\n",
       "    <tr>\n",
       "      <th>3</th>\n",
       "      <td>103.0</td>\n",
       "      <td>110.0</td>\n",
       "      <td>106.5</td>\n",
       "      <td>15.0</td>\n",
       "      <td>7.0</td>\n",
       "      <td>0.294118</td>\n",
       "      <td>2.142857</td>\n",
       "      <td>0.042017</td>\n",
       "      <td>0.568627</td>\n",
       "    </tr>\n",
       "    <tr>\n",
       "      <th>4</th>\n",
       "      <td>110.0</td>\n",
       "      <td>117.0</td>\n",
       "      <td>113.5</td>\n",
       "      <td>13.0</td>\n",
       "      <td>7.0</td>\n",
       "      <td>0.254902</td>\n",
       "      <td>1.857143</td>\n",
       "      <td>0.036415</td>\n",
       "      <td>0.823529</td>\n",
       "    </tr>\n",
       "    <tr>\n",
       "      <th>5</th>\n",
       "      <td>117.0</td>\n",
       "      <td>124.0</td>\n",
       "      <td>120.5</td>\n",
       "      <td>9.0</td>\n",
       "      <td>7.0</td>\n",
       "      <td>0.176471</td>\n",
       "      <td>1.285714</td>\n",
       "      <td>0.025210</td>\n",
       "      <td>1.000000</td>\n",
       "    </tr>\n",
       "    <tr>\n",
       "      <th>Total</th>\n",
       "      <td>597.0</td>\n",
       "      <td>639.0</td>\n",
       "      <td>618.0</td>\n",
       "      <td>51.0</td>\n",
       "      <td>42.0</td>\n",
       "      <td>1.000000</td>\n",
       "      <td>7.285714</td>\n",
       "      <td>0.142857</td>\n",
       "      <td>2.784314</td>\n",
       "    </tr>\n",
       "  </tbody>\n",
       "</table>\n",
       "</div>"
      ],
      "text/plain": [
       "        left  right      x     n     h         w       n/h       w/h     w_cum\n",
       "0       82.0   89.0   85.5   2.0   7.0  0.039216  0.285714  0.005602  0.039216\n",
       "1       89.0   96.0   92.5   2.0   7.0  0.039216  0.285714  0.005602  0.078431\n",
       "2       96.0  103.0   99.5  10.0   7.0  0.196078  1.428571  0.028011  0.274510\n",
       "3      103.0  110.0  106.5  15.0   7.0  0.294118  2.142857  0.042017  0.568627\n",
       "4      110.0  117.0  113.5  13.0   7.0  0.254902  1.857143  0.036415  0.823529\n",
       "5      117.0  124.0  120.5   9.0   7.0  0.176471  1.285714  0.025210  1.000000\n",
       "Total  597.0  639.0  618.0  51.0  42.0  1.000000  7.285714  0.142857  2.784314"
      ]
     },
     "execution_count": 24,
     "metadata": {},
     "output_type": "execute_result"
    }
   ],
   "source": [
    "series.table"
   ]
  },
  {
   "cell_type": "code",
   "execution_count": 6,
   "id": "17f95705-ec2c-45d2-9d5e-2778068aa75c",
   "metadata": {},
   "outputs": [
    {
     "data": {
      "text/html": [
       "<div>\n",
       "<style scoped>\n",
       "    .dataframe tbody tr th:only-of-type {\n",
       "        vertical-align: middle;\n",
       "    }\n",
       "\n",
       "    .dataframe tbody tr th {\n",
       "        vertical-align: top;\n",
       "    }\n",
       "\n",
       "    .dataframe thead th {\n",
       "        text-align: right;\n",
       "    }\n",
       "</style>\n",
       "<table border=\"1\" class=\"dataframe\">\n",
       "  <thead>\n",
       "    <tr style=\"text-align: right;\">\n",
       "      <th></th>\n",
       "      <th>mean</th>\n",
       "      <th>mode</th>\n",
       "      <th>median</th>\n",
       "      <th>range</th>\n",
       "      <th>abs_dev</th>\n",
       "      <th>disp</th>\n",
       "      <th>UB disp</th>\n",
       "      <th>std</th>\n",
       "      <th>UB_std</th>\n",
       "      <th>coeff var</th>\n",
       "    </tr>\n",
       "  </thead>\n",
       "  <tbody>\n",
       "    <tr>\n",
       "      <th>0</th>\n",
       "      <td>0.63</td>\n",
       "      <td>0.0</td>\n",
       "      <td>0.0</td>\n",
       "      <td>5.0</td>\n",
       "      <td>0.68</td>\n",
       "      <td>0.7</td>\n",
       "      <td>0.7</td>\n",
       "      <td>0.84</td>\n",
       "      <td>0.84</td>\n",
       "      <td>132.44</td>\n",
       "    </tr>\n",
       "  </tbody>\n",
       "</table>\n",
       "</div>"
      ],
      "text/plain": [
       "   mean  mode  median  range  abs_dev  disp  UB disp   std  UB_std  coeff var\n",
       "0  0.63   0.0     0.0    5.0     0.68   0.7      0.7  0.84    0.84     132.44"
      ]
     },
     "execution_count": 6,
     "metadata": {},
     "output_type": "execute_result"
    }
   ],
   "source": [
    "series.stats_data"
   ]
  },
  {
   "cell_type": "code",
   "execution_count": 7,
   "id": "a45e067b-e945-49ae-ac9d-5d546360bf82",
   "metadata": {
    "scrolled": true
   },
   "outputs": [],
   "source": [
    "cl = poissonDistribution(series)"
   ]
  },
  {
   "cell_type": "code",
   "execution_count": 8,
   "id": "4930c602-44be-4eb0-9938-72bd32b74914",
   "metadata": {},
   "outputs": [
    {
     "data": {
      "text/html": [
       "<div>\n",
       "<style scoped>\n",
       "    .dataframe tbody tr th:only-of-type {\n",
       "        vertical-align: middle;\n",
       "    }\n",
       "\n",
       "    .dataframe tbody tr th {\n",
       "        vertical-align: top;\n",
       "    }\n",
       "\n",
       "    .dataframe thead th {\n",
       "        text-align: right;\n",
       "    }\n",
       "</style>\n",
       "<table border=\"1\" class=\"dataframe\">\n",
       "  <thead>\n",
       "    <tr style=\"text-align: right;\">\n",
       "      <th></th>\n",
       "      <th>x</th>\n",
       "      <th>n</th>\n",
       "      <th>p(i)</th>\n",
       "      <th>n'</th>\n",
       "    </tr>\n",
       "  </thead>\n",
       "  <tbody>\n",
       "    <tr>\n",
       "      <th>0</th>\n",
       "      <td>0.0</td>\n",
       "      <td>270.0</td>\n",
       "      <td>0.5315</td>\n",
       "      <td>265.7638</td>\n",
       "    </tr>\n",
       "    <tr>\n",
       "      <th>1</th>\n",
       "      <td>1.0</td>\n",
       "      <td>166.0</td>\n",
       "      <td>0.3359</td>\n",
       "      <td>167.9627</td>\n",
       "    </tr>\n",
       "    <tr>\n",
       "      <th>2</th>\n",
       "      <td>2.0</td>\n",
       "      <td>49.0</td>\n",
       "      <td>0.1062</td>\n",
       "      <td>53.0762</td>\n",
       "    </tr>\n",
       "    <tr>\n",
       "      <th>3</th>\n",
       "      <td>3.0</td>\n",
       "      <td>10.0</td>\n",
       "      <td>0.0224</td>\n",
       "      <td>11.1814</td>\n",
       "    </tr>\n",
       "    <tr>\n",
       "      <th>4</th>\n",
       "      <td>4.0</td>\n",
       "      <td>3.0</td>\n",
       "      <td>0.0035</td>\n",
       "      <td>1.7667</td>\n",
       "    </tr>\n",
       "    <tr>\n",
       "      <th>5</th>\n",
       "      <td>5.0</td>\n",
       "      <td>2.0</td>\n",
       "      <td>0.0004</td>\n",
       "      <td>0.2233</td>\n",
       "    </tr>\n",
       "  </tbody>\n",
       "</table>\n",
       "</div>"
      ],
      "text/plain": [
       "     x      n    p(i)        n'\n",
       "0  0.0  270.0  0.5315  265.7638\n",
       "1  1.0  166.0  0.3359  167.9627\n",
       "2  2.0   49.0  0.1062   53.0762\n",
       "3  3.0   10.0  0.0224   11.1814\n",
       "4  4.0    3.0  0.0035    1.7667\n",
       "5  5.0    2.0  0.0004    0.2233"
      ]
     },
     "execution_count": 8,
     "metadata": {},
     "output_type": "execute_result"
    }
   ],
   "source": [
    "cl.normal_df"
   ]
  },
  {
   "cell_type": "code",
   "execution_count": 9,
   "id": "368529d1-7c7f-46cc-8611-c23bb0bd73bb",
   "metadata": {},
   "outputs": [
    {
     "name": "stdout",
     "output_type": "stream",
     "text": [
      "Chi2_crit = 6.2513886311703235; Chi2_observed = 5.081144760020183\n",
      "At the level of importance of 0.1 H_o hypothesis about normal distribution of the series did prove itself.\n"
     ]
    }
   ],
   "source": [
    "cl.conduct_test(.1)"
   ]
  },
  {
   "cell_type": "code",
   "execution_count": 10,
   "id": "b9e4086c-edc2-4cb7-9e62-1090214903fc",
   "metadata": {},
   "outputs": [
    {
     "data": {
      "image/png": "[encoded data removed]",
      "text/plain": [
       "<Figure size 640x480 with 1 Axes>"
      ]
     },
     "metadata": {},
     "output_type": "display_data"
    }
   ],
   "source": [
    "cl.plot()"
   ]
  },
  {
   "cell_type": "markdown",
   "id": "59db4976-ba43-4d7c-b452-588e2416e3e0",
   "metadata": {},
   "source": [
    "## Correlation-Regression analysis"
   ]
  },
  {
   "cell_type": "code",
   "execution_count": 1,
   "id": "65d57391-90f7-40c1-abc0-5558b4611af0",
   "metadata": {},
   "outputs": [],
   "source": [
    "from statkit.CorReg_analysis import CRA"
   ]
  },
  {
   "cell_type": "code",
   "execution_count": 2,
   "id": "6506e96e-d14b-4f25-a19d-3d3ad7c9be03",
   "metadata": {},
   "outputs": [],
   "source": [
    "X = [0, -1, -3, -5, 1, 3, 4]\n",
    "Y = [2, 0, -2, -4, 9, 5, 7]"
   ]
  },
  {
   "cell_type": "code",
   "execution_count": 3,
   "id": "b4988733-b373-436a-8e27-d1a47174d42f",
   "metadata": {},
   "outputs": [],
   "source": [
    "corregr = CRA(X, Y)"
   ]
  },
  {
   "cell_type": "code",
   "execution_count": 4,
   "id": "5749b80e-4fe5-47b3-9106-9d189fd6117d",
   "metadata": {},
   "outputs": [
    {
     "data": {
      "image/png": "[encoded data removed]",
      "text/plain": [
       "<Figure size 640x480 with 1 Axes>"
      ]
     },
     "metadata": {},
     "output_type": "display_data"
    }
   ],
   "source": [
    "corregr.plot_with_regression()"
   ]
  }
 ],
 "metadata": {
  "kernelspec": {
   "display_name": "Python 3 (ipykernel)",
   "language": "python",
   "name": "python3"
  },
  "language_info": {
   "codemirror_mode": {
    "name": "ipython",
    "version": 3
   },
   "file_extension": ".py",
   "mimetype": "text/x-python",
   "name": "python",
   "nbconvert_exporter": "python",
   "pygments_lexer": "ipython3",
   "version": "3.10.9"
  }
 },
 "nbformat": 4,
 "nbformat_minor": 5
}
