{
 "cells": [
  {
   "cell_type": "markdown",
   "id": "6eb8b51c-40f6-4c00-a5d0-bb0cc1050f14",
   "metadata": {},
   "source": [
    "# Move to statkit"
   ]
  },
  {
   "cell_type": "code",
   "execution_count": 1,
   "id": "1d84030d-fcb2-4321-ba47-06c042c07bf6",
   "metadata": {},
   "outputs": [],
   "source": [
    "def mean_confidence(prob, mean, n, s=None, disp=None, std=None, gen_std=None):\n",
    "    if not gen_std:\n",
    "        trust = tinv(prob, n)\n",
    "        if s:\n",
    "            std = s #????\n",
    "        if std:\n",
    "            std = np.sqrt(n/(n-1)) * std\n",
    "        if disp:\n",
    "            std = np.sqrt(n/(n-1)*disp)\n",
    "    else:\n",
    "        trust = Laplace_table_inverse(prob)\n",
    "        std = gen_std\n",
    "\n",
    "    precision = (trust * std) / np.sqrt(n)\n",
    "    left, right = map(stat_round, (mean-precision, mean+precision))\n",
    "    return left, right"
   ]
  },
  {
   "cell_type": "code",
   "execution_count": 2,
   "id": "ff0cc508-a638-4685-b791-1f0517ae94ba",
   "metadata": {
    "tags": []
   },
   "outputs": [],
   "source": [
    "def disp_confidence(prob, n, s=None, disp=None, std=None):\n",
    "    if not s:\n",
    "        if std:\n",
    "            s = np.sqrt(n/(n-1))*std\n",
    "        elif disp:\n",
    "            s = np.sqrt(n/(n-1) * disp)\n",
    "        \n",
    "    alpha_left, alpha_right, k = (1-prob)/2, (1+prob)/2, n-1\n",
    "    border = lambda alpha: ((n-1) * s**2) / chiinv(alpha, n)\n",
    "    borders = (border(a) for a in (alpha_left, alpha_right))\n",
    "    \n",
    "    left, right = map(stat_round, map(np.sqrt, borders))\n",
    "    \n",
    "    return left, right"
   ]
  },
  {
   "cell_type": "markdown",
   "id": "77262807-fffc-4622-945c-e6d8bc8331e8",
   "metadata": {
    "tags": []
   },
   "source": [
    " "
   ]
  },
  {
   "cell_type": "markdown",
   "id": "721a32d7-de5a-4ad8-be6b-c6a40132ec99",
   "metadata": {},
   "source": [
    "# Working"
   ]
  },
  {
   "cell_type": "code",
   "execution_count": 3,
   "id": "eba38b68-b1b6-4927-89ab-bd97b4c67dfe",
   "metadata": {},
   "outputs": [],
   "source": [
    "from statkit import (seriesBuilder as SB, stattools)\n",
    "from statkit.functions import *\n",
    "\n",
    "import numpy as np"
   ]
  },
  {
   "cell_type": "code",
   "execution_count": 4,
   "id": "0ef22007-39fd-4810-b80f-c7f405ccca5e",
   "metadata": {},
   "outputs": [],
   "source": [
    "data = (263, 284, 310, 296, 288, 251)"
   ]
  },
  {
   "cell_type": "code",
   "execution_count": 5,
   "id": "191ba822-d679-4d8e-ada4-b971d55b6fc3",
   "metadata": {},
   "outputs": [],
   "source": [
    "series = SB.discreetVariationSeries(data)"
   ]
  },
  {
   "cell_type": "code",
   "execution_count": 6,
   "id": "a0eda216-97b0-4d3b-8367-04e54166a797",
   "metadata": {},
   "outputs": [
    {
     "data": {
      "text/html": [
       "<div>\n",
       "<style scoped>\n",
       "    .dataframe tbody tr th:only-of-type {\n",
       "        vertical-align: middle;\n",
       "    }\n",
       "\n",
       "    .dataframe tbody tr th {\n",
       "        vertical-align: top;\n",
       "    }\n",
       "\n",
       "    .dataframe thead th {\n",
       "        text-align: right;\n",
       "    }\n",
       "</style>\n",
       "<table border=\"1\" class=\"dataframe\">\n",
       "  <thead>\n",
       "    <tr style=\"text-align: right;\">\n",
       "      <th></th>\n",
       "      <th>x</th>\n",
       "      <th>n</th>\n",
       "      <th>w</th>\n",
       "      <th>w_cum</th>\n",
       "    </tr>\n",
       "  </thead>\n",
       "  <tbody>\n",
       "    <tr>\n",
       "      <th>0</th>\n",
       "      <td>251.0</td>\n",
       "      <td>1.0</td>\n",
       "      <td>0.17</td>\n",
       "      <td>0.17</td>\n",
       "    </tr>\n",
       "    <tr>\n",
       "      <th>1</th>\n",
       "      <td>263.0</td>\n",
       "      <td>1.0</td>\n",
       "      <td>0.17</td>\n",
       "      <td>0.33</td>\n",
       "    </tr>\n",
       "    <tr>\n",
       "      <th>2</th>\n",
       "      <td>284.0</td>\n",
       "      <td>1.0</td>\n",
       "      <td>0.17</td>\n",
       "      <td>0.50</td>\n",
       "    </tr>\n",
       "    <tr>\n",
       "      <th>3</th>\n",
       "      <td>288.0</td>\n",
       "      <td>1.0</td>\n",
       "      <td>0.17</td>\n",
       "      <td>0.67</td>\n",
       "    </tr>\n",
       "    <tr>\n",
       "      <th>4</th>\n",
       "      <td>296.0</td>\n",
       "      <td>1.0</td>\n",
       "      <td>0.17</td>\n",
       "      <td>0.83</td>\n",
       "    </tr>\n",
       "    <tr>\n",
       "      <th>5</th>\n",
       "      <td>310.0</td>\n",
       "      <td>1.0</td>\n",
       "      <td>0.17</td>\n",
       "      <td>1.00</td>\n",
       "    </tr>\n",
       "    <tr>\n",
       "      <th>Total</th>\n",
       "      <td>1692.0</td>\n",
       "      <td>6.0</td>\n",
       "      <td>1.00</td>\n",
       "      <td>3.50</td>\n",
       "    </tr>\n",
       "  </tbody>\n",
       "</table>\n",
       "</div>"
      ],
      "text/plain": [
       "            x    n     w  w_cum\n",
       "0       251.0  1.0  0.17   0.17\n",
       "1       263.0  1.0  0.17   0.33\n",
       "2       284.0  1.0  0.17   0.50\n",
       "3       288.0  1.0  0.17   0.67\n",
       "4       296.0  1.0  0.17   0.83\n",
       "5       310.0  1.0  0.17   1.00\n",
       "Total  1692.0  6.0  1.00   3.50"
      ]
     },
     "execution_count": 6,
     "metadata": {},
     "output_type": "execute_result"
    }
   ],
   "source": [
    "series.table"
   ]
  },
  {
   "cell_type": "code",
   "execution_count": 7,
   "id": "ffd78da1-6c1d-4dd3-b327-ca31e7729ddb",
   "metadata": {},
   "outputs": [],
   "source": [
    "stats = stattools.Stats(series)"
   ]
  },
  {
   "cell_type": "code",
   "execution_count": 8,
   "id": "652ec61c-1509-437c-ba80-8b8dc8ed92b3",
   "metadata": {},
   "outputs": [
    {
     "data": {
      "text/html": [
       "<div>\n",
       "<style scoped>\n",
       "    .dataframe tbody tr th:only-of-type {\n",
       "        vertical-align: middle;\n",
       "    }\n",
       "\n",
       "    .dataframe tbody tr th {\n",
       "        vertical-align: top;\n",
       "    }\n",
       "\n",
       "    .dataframe thead th {\n",
       "        text-align: right;\n",
       "    }\n",
       "</style>\n",
       "<table border=\"1\" class=\"dataframe\">\n",
       "  <thead>\n",
       "    <tr style=\"text-align: right;\">\n",
       "      <th></th>\n",
       "      <th>mean</th>\n",
       "      <th>mode</th>\n",
       "      <th>median</th>\n",
       "      <th>range</th>\n",
       "      <th>abs_dev</th>\n",
       "      <th>disp</th>\n",
       "      <th>UB disp</th>\n",
       "      <th>std</th>\n",
       "      <th>UB_std</th>\n",
       "      <th>coeff var</th>\n",
       "    </tr>\n",
       "  </thead>\n",
       "  <tbody>\n",
       "    <tr>\n",
       "      <th>0</th>\n",
       "      <td>282.0</td>\n",
       "      <td>251.0</td>\n",
       "      <td>284.0</td>\n",
       "      <td>59.0</td>\n",
       "      <td>16.67</td>\n",
       "      <td>390.33</td>\n",
       "      <td>468.4</td>\n",
       "      <td>19.76</td>\n",
       "      <td>21.64</td>\n",
       "      <td>7.01</td>\n",
       "    </tr>\n",
       "  </tbody>\n",
       "</table>\n",
       "</div>"
      ],
      "text/plain": [
       "    mean   mode  median  range  abs_dev    disp  UB disp    std  UB_std  \\\n",
       "0  282.0  251.0   284.0   59.0    16.67  390.33    468.4  19.76   21.64   \n",
       "\n",
       "   coeff var  \n",
       "0       7.01  "
      ]
     },
     "execution_count": 8,
     "metadata": {},
     "output_type": "execute_result"
    }
   ],
   "source": [
    "stats.show_stats()"
   ]
  }
 ],
 "metadata": {
  "kernelspec": {
   "display_name": "Python 3 (ipykernel)",
   "language": "python",
   "name": "python3"
  },
  "language_info": {
   "codemirror_mode": {
    "name": "ipython",
    "version": 3
   },
   "file_extension": ".py",
   "mimetype": "text/x-python",
   "name": "python",
   "nbconvert_exporter": "python",
   "pygments_lexer": "ipython3",
   "version": "3.10.9"
  }
 },
 "nbformat": 4,
 "nbformat_minor": 5
}
