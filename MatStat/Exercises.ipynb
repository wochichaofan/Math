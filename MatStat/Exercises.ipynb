{
 "cells": [
  {
   "cell_type": "code",
   "execution_count": 1,
   "id": "8076234b",
   "metadata": {
    "tags": []
   },
   "outputs": [],
   "source": [
    "import matstat\n",
    "\n",
    "import numpy as np"
   ]
  },
  {
   "cell_type": "code",
   "execution_count": 2,
   "id": "d1f32a11-c0a4-40f0-8f2d-b2bbc01b47d5",
   "metadata": {},
   "outputs": [],
   "source": [
    "data = np.array([\n",
    "    (None, 20, 10), \n",
    "    (20, 24, 20),\n",
    "    (24, 28, 50),\n",
    "    (28, 32, 15),\n",
    "    (32, None, 5)\n",
    "                ])"
   ]
  },
  {
   "cell_type": "code",
   "execution_count": 3,
   "id": "33d574f9-81ea-4e6c-b8c7-35ee89a15c08",
   "metadata": {
    "tags": []
   },
   "outputs": [],
   "source": [
    "ivs = matstat.intervalVariationSeries(data)"
   ]
  },
  {
   "cell_type": "code",
   "execution_count": 4,
   "id": "16a140dd-83c0-4b9a-b76a-61530f85c288",
   "metadata": {
    "tags": []
   },
   "outputs": [
    {
     "data": {
      "text/html": [
       "<div>\n",
       "<style scoped>\n",
       "    .dataframe tbody tr th:only-of-type {\n",
       "        vertical-align: middle;\n",
       "    }\n",
       "\n",
       "    .dataframe tbody tr th {\n",
       "        vertical-align: top;\n",
       "    }\n",
       "\n",
       "    .dataframe thead th {\n",
       "        text-align: right;\n",
       "    }\n",
       "</style>\n",
       "<table border=\"1\" class=\"dataframe\">\n",
       "  <thead>\n",
       "    <tr style=\"text-align: right;\">\n",
       "      <th></th>\n",
       "      <th>left</th>\n",
       "      <th>right</th>\n",
       "      <th>x</th>\n",
       "      <th>n</th>\n",
       "      <th>h</th>\n",
       "      <th>w</th>\n",
       "      <th>n/h</th>\n",
       "      <th>w/h</th>\n",
       "      <th>w_cum</th>\n",
       "    </tr>\n",
       "  </thead>\n",
       "  <tbody>\n",
       "    <tr>\n",
       "      <th>0</th>\n",
       "      <td>16.0</td>\n",
       "      <td>20.0</td>\n",
       "      <td>18.0</td>\n",
       "      <td>10.0</td>\n",
       "      <td>4.0</td>\n",
       "      <td>0.10</td>\n",
       "      <td>2.5</td>\n",
       "      <td>0.025</td>\n",
       "      <td>0.10</td>\n",
       "    </tr>\n",
       "    <tr>\n",
       "      <th>1</th>\n",
       "      <td>20.0</td>\n",
       "      <td>24.0</td>\n",
       "      <td>22.0</td>\n",
       "      <td>20.0</td>\n",
       "      <td>4.0</td>\n",
       "      <td>0.20</td>\n",
       "      <td>5.0</td>\n",
       "      <td>0.05</td>\n",
       "      <td>0.30</td>\n",
       "    </tr>\n",
       "    <tr>\n",
       "      <th>2</th>\n",
       "      <td>24.0</td>\n",
       "      <td>28.0</td>\n",
       "      <td>26.0</td>\n",
       "      <td>50.0</td>\n",
       "      <td>4.0</td>\n",
       "      <td>0.50</td>\n",
       "      <td>12.5</td>\n",
       "      <td>0.125</td>\n",
       "      <td>0.80</td>\n",
       "    </tr>\n",
       "    <tr>\n",
       "      <th>3</th>\n",
       "      <td>28.0</td>\n",
       "      <td>32.0</td>\n",
       "      <td>30.0</td>\n",
       "      <td>15.0</td>\n",
       "      <td>4.0</td>\n",
       "      <td>0.15</td>\n",
       "      <td>3.75</td>\n",
       "      <td>0.0375</td>\n",
       "      <td>0.95</td>\n",
       "    </tr>\n",
       "    <tr>\n",
       "      <th>4</th>\n",
       "      <td>32.0</td>\n",
       "      <td>36.0</td>\n",
       "      <td>34.0</td>\n",
       "      <td>5.0</td>\n",
       "      <td>4.0</td>\n",
       "      <td>0.05</td>\n",
       "      <td>1.25</td>\n",
       "      <td>0.0125</td>\n",
       "      <td>1.00</td>\n",
       "    </tr>\n",
       "    <tr>\n",
       "      <th>Total</th>\n",
       "      <td>120.0</td>\n",
       "      <td>140.0</td>\n",
       "      <td>130.0</td>\n",
       "      <td>100.0</td>\n",
       "      <td>20.0</td>\n",
       "      <td>1.00</td>\n",
       "      <td>25.0</td>\n",
       "      <td>0.25</td>\n",
       "      <td>3.15</td>\n",
       "    </tr>\n",
       "  </tbody>\n",
       "</table>\n",
       "</div>"
      ],
      "text/plain": [
       "        left  right      x      n     h     w   n/h     w/h  w_cum\n",
       "0       16.0   20.0   18.0   10.0   4.0  0.10   2.5   0.025   0.10\n",
       "1       20.0   24.0   22.0   20.0   4.0  0.20   5.0    0.05   0.30\n",
       "2       24.0   28.0   26.0   50.0   4.0  0.50  12.5   0.125   0.80\n",
       "3       28.0   32.0   30.0   15.0   4.0  0.15  3.75  0.0375   0.95\n",
       "4       32.0   36.0   34.0    5.0   4.0  0.05  1.25  0.0125   1.00\n",
       "Total  120.0  140.0  130.0  100.0  20.0  1.00  25.0    0.25   3.15"
      ]
     },
     "execution_count": 4,
     "metadata": {},
     "output_type": "execute_result"
    }
   ],
   "source": [
    "ivs.table"
   ]
  },
  {
   "cell_type": "code",
   "execution_count": 5,
   "id": "4cfc38c6-45a2-4ec2-9ba5-661528982130",
   "metadata": {},
   "outputs": [
    {
     "data": {
      "text/html": [
       "<div>\n",
       "<style scoped>\n",
       "    .dataframe tbody tr th:only-of-type {\n",
       "        vertical-align: middle;\n",
       "    }\n",
       "\n",
       "    .dataframe tbody tr th {\n",
       "        vertical-align: top;\n",
       "    }\n",
       "\n",
       "    .dataframe thead th {\n",
       "        text-align: right;\n",
       "    }\n",
       "</style>\n",
       "<table border=\"1\" class=\"dataframe\">\n",
       "  <thead>\n",
       "    <tr style=\"text-align: right;\">\n",
       "      <th></th>\n",
       "      <th>mean</th>\n",
       "      <th>mode</th>\n",
       "      <th>median</th>\n",
       "    </tr>\n",
       "  </thead>\n",
       "  <tbody>\n",
       "    <tr>\n",
       "      <th>0</th>\n",
       "      <td>25.4</td>\n",
       "      <td>25.8462</td>\n",
       "      <td>25.6</td>\n",
       "    </tr>\n",
       "  </tbody>\n",
       "</table>\n",
       "</div>"
      ],
      "text/plain": [
       "   mean     mode  median\n",
       "0  25.4  25.8462    25.6"
      ]
     },
     "execution_count": 5,
     "metadata": {},
     "output_type": "execute_result"
    }
   ],
   "source": [
    "ivs.show_stats()"
   ]
  },
  {
   "cell_type": "code",
   "execution_count": 6,
   "id": "378d2a9a-6672-4aef-a6c0-183626b5248e",
   "metadata": {},
   "outputs": [
    {
     "ename": "NameError",
     "evalue": "name 'disc1_dist' is not defined",
     "output_type": "error",
     "traceback": [
      "\u001b[1;31m---------------------------------------------------------------------------\u001b[0m",
      "\u001b[1;31mNameError\u001b[0m                                 Traceback (most recent call last)",
      "Cell \u001b[1;32mIn[6], line 1\u001b[0m\n\u001b[1;32m----> 1\u001b[0m \u001b[43mdisc1_dist\u001b[49m\u001b[38;5;241m.\u001b[39mtable\n",
      "\u001b[1;31mNameError\u001b[0m: name 'disc1_dist' is not defined"
     ]
    }
   ],
   "source": [
    "disc1_dist.table"
   ]
  },
  {
   "cell_type": "markdown",
   "id": "eebbefb5-0f7f-46f3-ba0c-007c20112941",
   "metadata": {
    "tags": []
   },
   "source": [
    "### Frequency poligon"
   ]
  },
  {
   "cell_type": "code",
   "execution_count": null,
   "id": "518aa79f-b7d6-4027-9233-2ee477b97725",
   "metadata": {
    "tags": []
   },
   "outputs": [],
   "source": [
    "disc1_dist.plot_polygon()"
   ]
  },
  {
   "cell_type": "markdown",
   "id": "44e94704-1222-4807-8d29-a36fe875927e",
   "metadata": {},
   "source": [
    "### Empirical distribution function (Fx)"
   ]
  },
  {
   "cell_type": "code",
   "execution_count": null,
   "id": "0c6185f2-d557-45a7-81dc-984a4035c68c",
   "metadata": {},
   "outputs": [],
   "source": [
    "disc1_dist.plot_Fx()"
   ]
  },
  {
   "cell_type": "code",
   "execution_count": null,
   "id": "a4b98206-8681-4dcc-9c83-f55e1f63ba15",
   "metadata": {},
   "outputs": [],
   "source": [
    "# TODO: idiotic distribution. make it one list with tuples for this task => [(i, n_i), ...]"
   ]
  },
  {
   "cell_type": "code",
   "execution_count": null,
   "id": "42a60d15-ca80-4f48-a79c-c13903fd5cd0",
   "metadata": {},
   "outputs": [],
   "source": [
    "disc2 = np.array([rng.choice(np.arange(0, 10), replace=False, size=(5)), rng.integers(0, 50, 5)])\n",
    "disc2[0].sort()"
   ]
  },
  {
   "cell_type": "code",
   "execution_count": null,
   "id": "f555a31e-e92a-4e90-b1b4-d3d0edd0d794",
   "metadata": {},
   "outputs": [],
   "source": [
    "disc2_dist = DVS(disc2)\n",
    "\n",
    "disc2_dist.table"
   ]
  },
  {
   "cell_type": "markdown",
   "id": "1f5bd919-8d6c-4330-8801-2519dbabf38e",
   "metadata": {},
   "source": [
    "### Frequency polygon"
   ]
  },
  {
   "cell_type": "code",
   "execution_count": null,
   "id": "c3e6be9f",
   "metadata": {},
   "outputs": [],
   "source": [
    "disc2_dist.plot_polygon()"
   ]
  },
  {
   "cell_type": "markdown",
   "id": "5c3a8aee-634f-45a5-952e-63934aa8df76",
   "metadata": {},
   "source": [
    "### Empirical distribution function (Fx)"
   ]
  },
  {
   "cell_type": "code",
   "execution_count": null,
   "id": "c5545838",
   "metadata": {},
   "outputs": [],
   "source": [
    "disc2_dist.plot_Fx()"
   ]
  }
 ],
 "metadata": {
  "kernelspec": {
   "display_name": "Python 3 (ipykernel)",
   "language": "python",
   "name": "python3"
  },
  "language_info": {
   "codemirror_mode": {
    "name": "ipython",
    "version": 3
   },
   "file_extension": ".py",
   "mimetype": "text/x-python",
   "name": "python",
   "nbconvert_exporter": "python",
   "pygments_lexer": "ipython3",
   "version": "3.10.9"
  }
 },
 "nbformat": 4,
 "nbformat_minor": 5
}
