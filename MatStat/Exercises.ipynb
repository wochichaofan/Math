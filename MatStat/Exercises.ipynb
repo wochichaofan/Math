{
 "cells": [
  {
   "cell_type": "markdown",
   "id": "6eb8b51c-40f6-4c00-a5d0-bb0cc1050f14",
   "metadata": {},
   "source": [
    "# Move to statkit"
   ]
  },
  {
   "cell_type": "code",
   "execution_count": 105,
   "id": "55207a45-12a4-4d27-a153-c7fabebaf8c3",
   "metadata": {},
   "outputs": [],
   "source": [
    "class General_set_stats(object):\n",
    "    def __init__(self, from_series=True, seriesStatsClass=None):\n",
    "        if from_series:\n",
    "            assert seriesStatsClass, 'If choosen to build from series, must send seriesStatsClass to input'\n",
    "            self.data = seriesStatsClass.data\n",
    "            self.get_stats_from_series()\n",
    "\n",
    "    def get_stats_from_series():\n",
    "        pass\n",
    "    \n",
    "    def base_mean_confidence(self):\n",
    "        pass\n",
    "\n",
    "    def count_N_gen(self, n, perc_n):\n",
    "        pass\n",
    "    \n",
    "    def base_mean_interval(self, prob, mean, n, s=None, disp=None, std=None, gen_std=None):\n",
    "        if not gen_std:\n",
    "            trust = tinv(prob, n)\n",
    "            if s:\n",
    "                std = s #????\n",
    "            if std:\n",
    "                std = np.sqrt(n/(n-1)) * std\n",
    "            if disp:\n",
    "                std = np.sqrt(n/(n-1)*disp)\n",
    "        else:\n",
    "            trust = Laplace_table_inverse(prob)\n",
    "            std = gen_std\n",
    "    \n",
    "        delta = (trust * std) / np.sqrt(n)\n",
    "        left, right = map(stat_round, (mean-delta, mean+delta))\n",
    "        return left, right, delta\n",
    "\n",
    "    def disp_interval(self, prob, n, s=None, disp=None, std=None):\n",
    "        if not s:\n",
    "            if std:\n",
    "                s = np.sqrt(n/(n-1))*std\n",
    "            elif disp:\n",
    "                s = np.sqrt(n/(n-1) * disp)\n",
    "            \n",
    "        alpha_left, alpha_right, k = (1-prob)/2, (1+prob)/2, n-1\n",
    "        border = lambda alpha: ((n-1) * s**2) / chiinv(alpha, n)\n",
    "        borders = (border(a) for a in (alpha_left, alpha_right))\n",
    "        \n",
    "        left, right = map(stat_round, map(np.sqrt, borders))\n",
    "        \n",
    "        return left, right, alpha_right-alpha_left\n",
    "\n",
    "    def gen_mean_un_repeat(self, n, disp_2, mean, prob=.9974, N=None, perc_n=None, kind='unrepeat'):\n",
    "        assert perc_n or N, 'need input data for calculating N general'\n",
    "        if not N:\n",
    "            N = n / perc_n\n",
    "            \n",
    "        if n < 30:\n",
    "            trust = tinv(prob, n)\n",
    "        else:\n",
    "            trust = Laplace_table_inverse(prob)\n",
    "        \n",
    "        if kind == 'unrepeat':\n",
    "            mu = np.sqrt( (disp_2/n) * (1-n/N) )\n",
    "        if kind == 'repeat':\n",
    "            mu = np.sqrt( disp_2/n )\n",
    "            \n",
    "        delta = trust * mu\n",
    "        borders = mean - delta, mean + delta\n",
    "        left, right = map(stat_round, (borders))\n",
    "        return left, right, delta\n",
    "\n",
    "    def rate_disp(self, disp_n, n):\n",
    "        return n/(n-1) * disp_n\n",
    "\n",
    "    def share_gen_score(self, n, k, prob=.9974, N=None, perc_n=.05, kind='unrepeat'):\n",
    "        assert perc_n or N, 'need input data for calculating N general'\n",
    "        if not N:\n",
    "            N = n / perc_n\n",
    "        \n",
    "        w = k/n\n",
    "        \n",
    "        trust = Laplace_table_inverse(prob)\n",
    "    \n",
    "        if kind == 'unrepeat':\n",
    "            mu = np.sqrt( ((w*(1-w))/n) * (1-n/N) )\n",
    "        if kind == 'repeat':\n",
    "            mu = np.sqrt( (w*(1-w))/n )\n",
    "    \n",
    "        delta = trust * mu\n",
    "        \n",
    "        borders = w - delta, w + delta\n",
    "        left, right = map(stat_round, (borders))\n",
    "        return left, right, delta"
   ]
  },
  {
   "cell_type": "code",
   "execution_count": 101,
   "id": "3b2d884a-e8a2-45d4-a056-7447e00c5f88",
   "metadata": {},
   "outputs": [],
   "source": [
    "n = 100\n",
    "k = 65\n",
    "prob = .9974\n",
    "perc_n = .01"
   ]
  },
  {
   "cell_type": "code",
   "execution_count": 102,
   "id": "1108e868-2269-47f3-9862-e62faf779b19",
   "metadata": {},
   "outputs": [],
   "source": [
    "gen = General_set_stats(from_series=False)"
   ]
  },
  {
   "cell_type": "code",
   "execution_count": 103,
   "id": "d8281c28-e5ec-4faa-8d7f-642eae541053",
   "metadata": {},
   "outputs": [
    {
     "data": {
      "text/plain": [
       "(0.5071, 0.7929, 0.14291939375068205)"
      ]
     },
     "execution_count": 103,
     "metadata": {},
     "output_type": "execute_result"
    }
   ],
   "source": [
    "gen.share_gen_score(n, k, perc_n=perc_n)"
   ]
  },
  {
   "cell_type": "markdown",
   "id": "721a32d7-de5a-4ad8-be6b-c6a40132ec99",
   "metadata": {},
   "source": [
    "# Working"
   ]
  },
  {
   "cell_type": "code",
   "execution_count": 3,
   "id": "eba38b68-b1b6-4927-89ab-bd97b4c67dfe",
   "metadata": {},
   "outputs": [],
   "source": [
    "from statkit import (seriesBuilder as SB, stattools)\n",
    "from statkit.functions import *\n",
    "\n",
    "import numpy as np"
   ]
  },
  {
   "cell_type": "code",
   "execution_count": 87,
   "id": "0ef22007-39fd-4810-b80f-c7f405ccca5e",
   "metadata": {},
   "outputs": [],
   "source": [
    "data = np.array([\n",
    "    (96, 98, 5),\n",
    "    (98, 100, 30),\n",
    "    (100, 102, 60),\n",
    "    (102, 104, 5)\n",
    "])"
   ]
  },
  {
   "cell_type": "code",
   "execution_count": 88,
   "id": "191ba822-d679-4d8e-ada4-b971d55b6fc3",
   "metadata": {},
   "outputs": [],
   "source": [
    "series = SB.intervalVariationSeries(data)"
   ]
  },
  {
   "cell_type": "code",
   "execution_count": 89,
   "id": "a0eda216-97b0-4d3b-8367-04e54166a797",
   "metadata": {},
   "outputs": [
    {
     "data": {
      "text/html": [
       "<div>\n",
       "<style scoped>\n",
       "    .dataframe tbody tr th:only-of-type {\n",
       "        vertical-align: middle;\n",
       "    }\n",
       "\n",
       "    .dataframe tbody tr th {\n",
       "        vertical-align: top;\n",
       "    }\n",
       "\n",
       "    .dataframe thead th {\n",
       "        text-align: right;\n",
       "    }\n",
       "</style>\n",
       "<table border=\"1\" class=\"dataframe\">\n",
       "  <thead>\n",
       "    <tr style=\"text-align: right;\">\n",
       "      <th></th>\n",
       "      <th>left</th>\n",
       "      <th>right</th>\n",
       "      <th>x</th>\n",
       "      <th>n</th>\n",
       "      <th>h</th>\n",
       "      <th>w</th>\n",
       "      <th>n/h</th>\n",
       "      <th>w/h</th>\n",
       "      <th>w_cum</th>\n",
       "    </tr>\n",
       "  </thead>\n",
       "  <tbody>\n",
       "    <tr>\n",
       "      <th>0</th>\n",
       "      <td>96.0</td>\n",
       "      <td>98.0</td>\n",
       "      <td>97.0</td>\n",
       "      <td>5.0</td>\n",
       "      <td>2.0</td>\n",
       "      <td>0.05</td>\n",
       "      <td>2.5</td>\n",
       "      <td>0.025</td>\n",
       "      <td>0.05</td>\n",
       "    </tr>\n",
       "    <tr>\n",
       "      <th>1</th>\n",
       "      <td>98.0</td>\n",
       "      <td>100.0</td>\n",
       "      <td>99.0</td>\n",
       "      <td>30.0</td>\n",
       "      <td>2.0</td>\n",
       "      <td>0.30</td>\n",
       "      <td>15.0</td>\n",
       "      <td>0.150</td>\n",
       "      <td>0.35</td>\n",
       "    </tr>\n",
       "    <tr>\n",
       "      <th>2</th>\n",
       "      <td>100.0</td>\n",
       "      <td>102.0</td>\n",
       "      <td>101.0</td>\n",
       "      <td>60.0</td>\n",
       "      <td>2.0</td>\n",
       "      <td>0.60</td>\n",
       "      <td>30.0</td>\n",
       "      <td>0.300</td>\n",
       "      <td>0.95</td>\n",
       "    </tr>\n",
       "    <tr>\n",
       "      <th>3</th>\n",
       "      <td>102.0</td>\n",
       "      <td>104.0</td>\n",
       "      <td>103.0</td>\n",
       "      <td>5.0</td>\n",
       "      <td>2.0</td>\n",
       "      <td>0.05</td>\n",
       "      <td>2.5</td>\n",
       "      <td>0.025</td>\n",
       "      <td>1.00</td>\n",
       "    </tr>\n",
       "    <tr>\n",
       "      <th>Total</th>\n",
       "      <td>396.0</td>\n",
       "      <td>404.0</td>\n",
       "      <td>400.0</td>\n",
       "      <td>100.0</td>\n",
       "      <td>8.0</td>\n",
       "      <td>1.00</td>\n",
       "      <td>50.0</td>\n",
       "      <td>0.500</td>\n",
       "      <td>2.35</td>\n",
       "    </tr>\n",
       "  </tbody>\n",
       "</table>\n",
       "</div>"
      ],
      "text/plain": [
       "        left  right      x      n    h     w   n/h    w/h  w_cum\n",
       "0       96.0   98.0   97.0    5.0  2.0  0.05   2.5  0.025   0.05\n",
       "1       98.0  100.0   99.0   30.0  2.0  0.30  15.0  0.150   0.35\n",
       "2      100.0  102.0  101.0   60.0  2.0  0.60  30.0  0.300   0.95\n",
       "3      102.0  104.0  103.0    5.0  2.0  0.05   2.5  0.025   1.00\n",
       "Total  396.0  404.0  400.0  100.0  8.0  1.00  50.0  0.500   2.35"
      ]
     },
     "execution_count": 89,
     "metadata": {},
     "output_type": "execute_result"
    }
   ],
   "source": [
    "series.table"
   ]
  },
  {
   "cell_type": "code",
   "execution_count": 90,
   "id": "ffd78da1-6c1d-4dd3-b327-ca31e7729ddb",
   "metadata": {},
   "outputs": [],
   "source": [
    "stats = stattools.Stats(series)"
   ]
  },
  {
   "cell_type": "code",
   "execution_count": 91,
   "id": "652ec61c-1509-437c-ba80-8b8dc8ed92b3",
   "metadata": {},
   "outputs": [
    {
     "data": {
      "text/html": [
       "<div>\n",
       "<style scoped>\n",
       "    .dataframe tbody tr th:only-of-type {\n",
       "        vertical-align: middle;\n",
       "    }\n",
       "\n",
       "    .dataframe tbody tr th {\n",
       "        vertical-align: top;\n",
       "    }\n",
       "\n",
       "    .dataframe thead th {\n",
       "        text-align: right;\n",
       "    }\n",
       "</style>\n",
       "<table border=\"1\" class=\"dataframe\">\n",
       "  <thead>\n",
       "    <tr style=\"text-align: right;\">\n",
       "      <th></th>\n",
       "      <th>mean</th>\n",
       "      <th>mode</th>\n",
       "      <th>median</th>\n",
       "      <th>range</th>\n",
       "      <th>abs_dev</th>\n",
       "      <th>disp</th>\n",
       "      <th>UB disp</th>\n",
       "      <th>std</th>\n",
       "      <th>UB_std</th>\n",
       "      <th>coeff var</th>\n",
       "    </tr>\n",
       "  </thead>\n",
       "  <tbody>\n",
       "    <tr>\n",
       "      <th>0</th>\n",
       "      <td>100.3</td>\n",
       "      <td>100.67</td>\n",
       "      <td>100.5</td>\n",
       "      <td>6.0</td>\n",
       "      <td>1.11</td>\n",
       "      <td>1.71</td>\n",
       "      <td>1.73</td>\n",
       "      <td>1.31</td>\n",
       "      <td>1.31</td>\n",
       "      <td>1.3</td>\n",
       "    </tr>\n",
       "  </tbody>\n",
       "</table>\n",
       "</div>"
      ],
      "text/plain": [
       "    mean    mode  median  range  abs_dev  disp  UB disp   std  UB_std  \\\n",
       "0  100.3  100.67   100.5    6.0     1.11  1.71     1.73  1.31    1.31   \n",
       "\n",
       "   coeff var  \n",
       "0        1.3  "
      ]
     },
     "execution_count": 91,
     "metadata": {},
     "output_type": "execute_result"
    }
   ],
   "source": [
    "stats.show_stats()"
   ]
  },
  {
   "cell_type": "markdown",
   "id": "59303fe9-77f6-40dd-92e6-0ca7d62e7b62",
   "metadata": {},
   "source": [
    "# Other"
   ]
  },
  {
   "cell_type": "code",
   "execution_count": 6,
   "id": "e827ca15-913d-4361-977b-ffc26e92d270",
   "metadata": {},
   "outputs": [
    {
     "data": {
      "text/plain": [
       "3.0115"
      ]
     },
     "execution_count": 6,
     "metadata": {},
     "output_type": "execute_result"
    }
   ],
   "source": [
    "Laplace_table_inverse(.9974)"
   ]
  }
 ],
 "metadata": {
  "kernelspec": {
   "display_name": "Python 3 (ipykernel)",
   "language": "python",
   "name": "python3"
  },
  "language_info": {
   "codemirror_mode": {
    "name": "ipython",
    "version": 3
   },
   "file_extension": ".py",
   "mimetype": "text/x-python",
   "name": "python",
   "nbconvert_exporter": "python",
   "pygments_lexer": "ipython3",
   "version": "3.10.9"
  }
 },
 "nbformat": 4,
 "nbformat_minor": 5
}
