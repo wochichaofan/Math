{
 "cells": [
  {
   "cell_type": "code",
   "execution_count": 1,
   "id": "eba38b68-b1b6-4927-89ab-bd97b4c67dfe",
   "metadata": {},
   "outputs": [],
   "source": [
    "from statkit import (seriesBuilder as SB, stattools)\n",
    "from statkit.functions import *\n",
    "from statkit.distributions import *\n",
    "\n",
    "import numpy as np"
   ]
  },
  {
   "cell_type": "code",
   "execution_count": 2,
   "id": "ac80391b-42f4-4e60-88c4-8521b28b1511",
   "metadata": {},
   "outputs": [],
   "source": [
    "h = 3"
   ]
  },
  {
   "cell_type": "code",
   "execution_count": 3,
   "id": "820ddc60-c048-42c0-b8e7-2316143da753",
   "metadata": {},
   "outputs": [],
   "source": [
    "lefts = np.arange(7.5, 34.5, h)\n",
    "rights = np.arange(7.5+h, 34.5+h, h)\n",
    "vals = [2, 6, 10, 17, 33, 11, 9, 7, 5]\n",
    "\n",
    "data = np.array(list((l,r,v) for l, r, v in zip(lefts, rights, vals)) )"
   ]
  },
  {
   "cell_type": "code",
   "execution_count": 4,
   "id": "98526575-b9b0-45a1-97c5-7ebe14d15333",
   "metadata": {},
   "outputs": [
    {
     "data": {
      "text/plain": [
       "array([[ 7.5, 10.5,  2. ],\n",
       "       [10.5, 13.5,  6. ],\n",
       "       [13.5, 16.5, 10. ],\n",
       "       [16.5, 19.5, 17. ],\n",
       "       [19.5, 22.5, 33. ],\n",
       "       [22.5, 25.5, 11. ],\n",
       "       [25.5, 28.5,  9. ],\n",
       "       [28.5, 31.5,  7. ],\n",
       "       [31.5, 34.5,  5. ]])"
      ]
     },
     "execution_count": 4,
     "metadata": {},
     "output_type": "execute_result"
    }
   ],
   "source": [
    "data"
   ]
  },
  {
   "cell_type": "code",
   "execution_count": 5,
   "id": "191ba822-d679-4d8e-ada4-b971d55b6fc3",
   "metadata": {},
   "outputs": [],
   "source": [
    "series = SB.intervalVariationSeries(data)"
   ]
  },
  {
   "cell_type": "code",
   "execution_count": 6,
   "id": "a0eda216-97b0-4d3b-8367-04e54166a797",
   "metadata": {},
   "outputs": [
    {
     "data": {
      "text/html": [
       "<div>\n",
       "<style scoped>\n",
       "    .dataframe tbody tr th:only-of-type {\n",
       "        vertical-align: middle;\n",
       "    }\n",
       "\n",
       "    .dataframe tbody tr th {\n",
       "        vertical-align: top;\n",
       "    }\n",
       "\n",
       "    .dataframe thead th {\n",
       "        text-align: right;\n",
       "    }\n",
       "</style>\n",
       "<table border=\"1\" class=\"dataframe\">\n",
       "  <thead>\n",
       "    <tr style=\"text-align: right;\">\n",
       "      <th></th>\n",
       "      <th>left</th>\n",
       "      <th>right</th>\n",
       "      <th>x</th>\n",
       "      <th>n</th>\n",
       "      <th>h</th>\n",
       "      <th>w</th>\n",
       "      <th>n/h</th>\n",
       "      <th>w/h</th>\n",
       "      <th>w_cum</th>\n",
       "    </tr>\n",
       "  </thead>\n",
       "  <tbody>\n",
       "    <tr>\n",
       "      <th>0</th>\n",
       "      <td>7.5</td>\n",
       "      <td>10.5</td>\n",
       "      <td>9.0</td>\n",
       "      <td>2.0</td>\n",
       "      <td>3.0</td>\n",
       "      <td>0.02</td>\n",
       "      <td>0.666667</td>\n",
       "      <td>0.006667</td>\n",
       "      <td>0.02</td>\n",
       "    </tr>\n",
       "    <tr>\n",
       "      <th>1</th>\n",
       "      <td>10.5</td>\n",
       "      <td>13.5</td>\n",
       "      <td>12.0</td>\n",
       "      <td>6.0</td>\n",
       "      <td>3.0</td>\n",
       "      <td>0.06</td>\n",
       "      <td>2.000000</td>\n",
       "      <td>0.020000</td>\n",
       "      <td>0.08</td>\n",
       "    </tr>\n",
       "    <tr>\n",
       "      <th>2</th>\n",
       "      <td>13.5</td>\n",
       "      <td>16.5</td>\n",
       "      <td>15.0</td>\n",
       "      <td>10.0</td>\n",
       "      <td>3.0</td>\n",
       "      <td>0.10</td>\n",
       "      <td>3.333333</td>\n",
       "      <td>0.033333</td>\n",
       "      <td>0.18</td>\n",
       "    </tr>\n",
       "    <tr>\n",
       "      <th>3</th>\n",
       "      <td>16.5</td>\n",
       "      <td>19.5</td>\n",
       "      <td>18.0</td>\n",
       "      <td>17.0</td>\n",
       "      <td>3.0</td>\n",
       "      <td>0.17</td>\n",
       "      <td>5.666667</td>\n",
       "      <td>0.056667</td>\n",
       "      <td>0.35</td>\n",
       "    </tr>\n",
       "    <tr>\n",
       "      <th>4</th>\n",
       "      <td>19.5</td>\n",
       "      <td>22.5</td>\n",
       "      <td>21.0</td>\n",
       "      <td>33.0</td>\n",
       "      <td>3.0</td>\n",
       "      <td>0.33</td>\n",
       "      <td>11.000000</td>\n",
       "      <td>0.110000</td>\n",
       "      <td>0.68</td>\n",
       "    </tr>\n",
       "    <tr>\n",
       "      <th>5</th>\n",
       "      <td>22.5</td>\n",
       "      <td>25.5</td>\n",
       "      <td>24.0</td>\n",
       "      <td>11.0</td>\n",
       "      <td>3.0</td>\n",
       "      <td>0.11</td>\n",
       "      <td>3.666667</td>\n",
       "      <td>0.036667</td>\n",
       "      <td>0.79</td>\n",
       "    </tr>\n",
       "    <tr>\n",
       "      <th>6</th>\n",
       "      <td>25.5</td>\n",
       "      <td>28.5</td>\n",
       "      <td>27.0</td>\n",
       "      <td>9.0</td>\n",
       "      <td>3.0</td>\n",
       "      <td>0.09</td>\n",
       "      <td>3.000000</td>\n",
       "      <td>0.030000</td>\n",
       "      <td>0.88</td>\n",
       "    </tr>\n",
       "    <tr>\n",
       "      <th>7</th>\n",
       "      <td>28.5</td>\n",
       "      <td>31.5</td>\n",
       "      <td>30.0</td>\n",
       "      <td>7.0</td>\n",
       "      <td>3.0</td>\n",
       "      <td>0.07</td>\n",
       "      <td>2.333333</td>\n",
       "      <td>0.023333</td>\n",
       "      <td>0.95</td>\n",
       "    </tr>\n",
       "    <tr>\n",
       "      <th>8</th>\n",
       "      <td>31.5</td>\n",
       "      <td>34.5</td>\n",
       "      <td>33.0</td>\n",
       "      <td>5.0</td>\n",
       "      <td>3.0</td>\n",
       "      <td>0.05</td>\n",
       "      <td>1.666667</td>\n",
       "      <td>0.016667</td>\n",
       "      <td>1.00</td>\n",
       "    </tr>\n",
       "    <tr>\n",
       "      <th>Total</th>\n",
       "      <td>175.5</td>\n",
       "      <td>202.5</td>\n",
       "      <td>189.0</td>\n",
       "      <td>100.0</td>\n",
       "      <td>27.0</td>\n",
       "      <td>1.00</td>\n",
       "      <td>33.333333</td>\n",
       "      <td>0.333333</td>\n",
       "      <td>4.93</td>\n",
       "    </tr>\n",
       "  </tbody>\n",
       "</table>\n",
       "</div>"
      ],
      "text/plain": [
       "        left  right      x      n     h     w        n/h       w/h  w_cum\n",
       "0        7.5   10.5    9.0    2.0   3.0  0.02   0.666667  0.006667   0.02\n",
       "1       10.5   13.5   12.0    6.0   3.0  0.06   2.000000  0.020000   0.08\n",
       "2       13.5   16.5   15.0   10.0   3.0  0.10   3.333333  0.033333   0.18\n",
       "3       16.5   19.5   18.0   17.0   3.0  0.17   5.666667  0.056667   0.35\n",
       "4       19.5   22.5   21.0   33.0   3.0  0.33  11.000000  0.110000   0.68\n",
       "5       22.5   25.5   24.0   11.0   3.0  0.11   3.666667  0.036667   0.79\n",
       "6       25.5   28.5   27.0    9.0   3.0  0.09   3.000000  0.030000   0.88\n",
       "7       28.5   31.5   30.0    7.0   3.0  0.07   2.333333  0.023333   0.95\n",
       "8       31.5   34.5   33.0    5.0   3.0  0.05   1.666667  0.016667   1.00\n",
       "Total  175.5  202.5  189.0  100.0  27.0  1.00  33.333333  0.333333   4.93"
      ]
     },
     "execution_count": 6,
     "metadata": {},
     "output_type": "execute_result"
    }
   ],
   "source": [
    "series.table"
   ]
  },
  {
   "cell_type": "code",
   "execution_count": 7,
   "id": "a45e067b-e945-49ae-ac9d-5d546360bf82",
   "metadata": {},
   "outputs": [],
   "source": [
    "cl = distributions(series)"
   ]
  },
  {
   "cell_type": "code",
   "execution_count": 8,
   "id": "40a3bbc6-3060-4265-84cb-840b7834749d",
   "metadata": {},
   "outputs": [
    {
     "data": {
      "image/png": "[encoded data removed]",
      "text/plain": [
       "<Figure size 640x480 with 1 Axes>"
      ]
     },
     "metadata": {},
     "output_type": "display_data"
    }
   ],
   "source": [
    "cl.plot()"
   ]
  }
 ],
 "metadata": {
  "kernelspec": {
   "display_name": "Python 3 (ipykernel)",
   "language": "python",
   "name": "python3"
  },
  "language_info": {
   "codemirror_mode": {
    "name": "ipython",
    "version": 3
   },
   "file_extension": ".py",
   "mimetype": "text/x-python",
   "name": "python",
   "nbconvert_exporter": "python",
   "pygments_lexer": "ipython3",
   "version": "3.10.9"
  }
 },
 "nbformat": 4,
 "nbformat_minor": 5
}
