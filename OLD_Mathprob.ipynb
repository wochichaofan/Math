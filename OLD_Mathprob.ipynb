{
 "cells": [
  {
   "cell_type": "markdown",
   "id": "4a02c5f8-e9a5-40a3-ad07-b621a5e65ac6",
   "metadata": {},
   "source": [
    "# It was never meant to be working or studying project\n",
    "## This notebook served me as a \"quick calculator\" during my comprehension of mathematical probability"
   ]
  },
  {
   "cell_type": "code",
   "execution_count": 1,
   "id": "5337db17",
   "metadata": {},
   "outputs": [],
   "source": [
    "import numpy as np\n",
    "import matplotlib.pyplot as plt\n",
    "from sympy import *\n",
    "from scipy.stats import norm\n",
    "\n",
    "from decimal import *\n",
    "\n",
    "import pandas as pd\n",
    "\n",
    "getcontext().prec = 4"
   ]
  },
  {
   "cell_type": "code",
   "execution_count": 2,
   "id": "bf88bbfe-adb6-4504-9ab4-f77cfb76a7d5",
   "metadata": {},
   "outputs": [],
   "source": [
    "from Basic_stats import *"
   ]
  },
  {
   "cell_type": "code",
   "execution_count": 3,
   "id": "30f347be",
   "metadata": {},
   "outputs": [],
   "source": [
    "def build_prob_func(x, p, printer=False):\n",
    "    x1 = []\n",
    "    p1 = []\n",
    "\n",
    "    for i in range(len(x)):\n",
    "\n",
    "        if i == 0:\n",
    "            x1.append([np.NINF, x[i]])\n",
    "            cur_weights = 0\n",
    "\n",
    "        if 0 < i < len(x):\n",
    "            x1.append([x[i-1], x[i]])\n",
    "            cur_weights = p[i-1] + cur_weights\n",
    "        p1.append([cur_weights, cur_weights ])\n",
    "    x1.append([x[-1], np.inf])\n",
    "    p1.append([1, 1])\n",
    "    \n",
    "    if printer == True:\n",
    "        print(f'F(x):')\n",
    "        for i in range(len(x1)):\n",
    "            print(f'{round(p1[i][0], 4):<3} | {x1[i][0]:^4} < x <= {x1[i][1]:^3}')\n",
    "    \n",
    "    return x1, p1\n",
    "    \n",
    "def plot_Fx_discreet(x,x1, p1):\n",
    "    \n",
    "    d = {np.inf: 10^16, np.NINF: -10^16}\n",
    "    \n",
    "    plt.grid(visible=True, which='both')\n",
    "    plt.yticks(np.linspace(0, 1, 11))\n",
    "    plt.xticks(range(min(x)-1, max(x)+10))\n",
    "    plt.xlim(min(x)-2, max(x)+2)\n",
    "    \n",
    "    \n",
    "    for i, n in zip(x1, p1):\n",
    "        plt.plot(i, n, linewidth=4)\n",
    "        plt.scatter(i[-1], n[-1])\n",
    "    \n",
    "    plt.plot([x1[0][1]-3, x1[0][1]], p1[0], linewidth=4)\n",
    "    plt.plot([x1[-1][0], x1[-1][0]+3], p1[-1], linewidth=4)\n",
    "    \n",
    "    \n",
    "def prob_polygon(x, p):\n",
    "    plt.grid(visible=True)\n",
    "\n",
    "    plt.plot(x, p)\n",
    "    plt.scatter(x, p, color='r')\n",
    "    plt.xlim((min(x)-1, max(x)+2))\n",
    "    plt.ylim((0, max(map(float, p))+0.1))\n",
    "    plt.show()"
   ]
  },
  {
   "cell_type": "code",
   "execution_count": 4,
   "id": "e5793f75",
   "metadata": {},
   "outputs": [],
   "source": [
    "def build_Fx(x, p, mode='Fx'):\n",
    "    if mode == 'Fx':\n",
    "        assert len(x) - len(p) ==1, 'The len of x must be at least 1 more than of p'\n",
    "    elif mode == 'fx':\n",
    "        assert len(x) == len(p), 'The len of x must be the same as p. Insert 0, 1, and n functions'\n",
    "    \n",
    "    temp_x = x\n",
    "    temp_p = p\n",
    "    temp_x.insert(0, np.NINF)\n",
    "    temp_x.insert(len(x), np.inf)\n",
    "    \n",
    "    temp_p.insert(0, 0)\n",
    "    if mode == 'Fx':\n",
    "        temp_p.insert(len(p), 1)\n",
    "    elif mode == 'fx':\n",
    "        temp_p.insert(len(p), p[-1])\n",
    "    \n",
    "    rng = len(x)-1 if len(x)%2 == 0 else len(x) - (len(x)%2)\n",
    "    \n",
    "    d = tuple([temp_p[i], [temp_x[i], temp_x[i+1]]] for i in range(rng))\n",
    "    \n",
    "    return d"
   ]
  },
  {
   "cell_type": "markdown",
   "id": "3296ad69",
   "metadata": {
    "tags": []
   },
   "source": [
    "# TODO построить ф-ию распределения НСВ и её плотности"
   ]
  },
  {
   "cell_type": "code",
   "execution_count": 5,
   "id": "d15cca63",
   "metadata": {},
   "outputs": [],
   "source": [
    "def handle_infs(_range):\n",
    "    if np.inf in _range:\n",
    "        x_range = [_range[0], _range[0]+1]\n",
    "\n",
    "    elif np.NINF in _range:\n",
    "        x_range = [_range[-1]-1, _range[-1]]\n",
    "\n",
    "    else:\n",
    "        x_range = _range\n",
    "        \n",
    "    return x_range"
   ]
  },
  {
   "cell_type": "code",
   "execution_count": 6,
   "id": "c3702724",
   "metadata": {},
   "outputs": [],
   "source": [
    "def plot_fx_inf(fx):\n",
    "    for pair in fx:\n",
    "        Fxfs_iterator(function=pair[0], x_range=handle_infs(pair[-1]), orig_range=pair[-1])\n",
    "        \n",
    "def Fxfs_iterator(function, x_range, orig_range):\n",
    "    f = lambdify(\"x\", function)\n",
    "\n",
    "    ys = [f(i) for i in np.linspace(x_range[0], x_range[-1], 50)]\n",
    "    xs = np.linspace(x_range[0], x_range[-1], 50)\n",
    "\n",
    "    plt.grid(True)\n",
    "    plt.axhline(0, color='k', linewidth=.5)\n",
    "    plt.axvline(0, color='k', linewidth =.5)\n",
    "    plt.plot(xs, ys, linewidth=2, label=f'x e ({round(orig_range[0], 3)}, {round(orig_range[-1], 3)})')\n",
    "    plt.ylim((-.2, 1.5))\n",
    "    plt.legend()"
   ]
  },
  {
   "cell_type": "code",
   "execution_count": 7,
   "id": "551b2159",
   "metadata": {},
   "outputs": [],
   "source": [
    "def Fx_to_fx(input_fx):\n",
    "    return tuple( [diff(i[0], 'x'), i[1]] for i in input_fx)\n",
    "\n",
    "def norm_stat_dist(a, sigm, x):\n",
    "    \"\"\"\n",
    "    x: int or tuple. \n",
    "    If tuple should be presented like (min_val, max_val)\n",
    "    \"\"\"\n",
    "    if type(x) == tuple:\n",
    "        min_z = (x[0] - a) / sigm\n",
    "        max_z = (x[1] - a) / sigm\n",
    "        prob = norm.cdf(max_z) - norm.cdf(min_z)\n",
    "        \n",
    "    else:\n",
    "        z_score = (x - a) / sigm\n",
    "        prob = norm.cdf(z_score) \n",
    "    return round(prob, 4)"
   ]
  },
  {
   "cell_type": "code",
   "execution_count": 8,
   "id": "b9268892",
   "metadata": {},
   "outputs": [
    {
     "data": {
      "text/plain": [
       "0.5889"
      ]
     },
     "execution_count": 8,
     "metadata": {},
     "output_type": "execute_result"
    }
   ],
   "source": [
    "norm_stat_dist(a=-1, sigm=3, x=(-4, 1))"
   ]
  },
  {
   "cell_type": "markdown",
   "id": "55bd72a8",
   "metadata": {},
   "source": [
    "# Функция распределения случайной величины"
   ]
  },
  {
   "cell_type": "code",
   "execution_count": 9,
   "id": "e36d13bf",
   "metadata": {
    "scrolled": true
   },
   "outputs": [],
   "source": [
    "funcs = [\n",
    "    Symbol('x') / 7\n",
    "]\n",
    "\n",
    "Fx = build_Fx([0, 7], funcs)"
   ]
  },
  {
   "cell_type": "code",
   "execution_count": 10,
   "id": "4a233e84",
   "metadata": {},
   "outputs": [
    {
     "data": {
      "image/png": "[encoded data removed]",
      "text/plain": [
       "<Figure size 640x480 with 1 Axes>"
      ]
     },
     "metadata": {},
     "output_type": "display_data"
    }
   ],
   "source": [
    "plot_fx_inf(Fx)"
   ]
  },
  {
   "cell_type": "code",
   "execution_count": 11,
   "id": "d1ead50b",
   "metadata": {
    "scrolled": true
   },
   "outputs": [],
   "source": [
    "fx = Fx_to_fx(Fx)"
   ]
  },
  {
   "cell_type": "code",
   "execution_count": 12,
   "id": "90775a1f-f28b-42a1-8755-62970d7c1d32",
   "metadata": {},
   "outputs": [
    {
     "data": {
      "text/plain": [
       "([0, [-inf, 0]], [1/7, [0, 7]], [0, [7, inf]])"
      ]
     },
     "execution_count": 12,
     "metadata": {},
     "output_type": "execute_result"
    }
   ],
   "source": [
    "fx"
   ]
  },
  {
   "cell_type": "markdown",
   "id": "cb324e0e",
   "metadata": {},
   "source": [
    "# Функция плотности случайной величины"
   ]
  },
  {
   "cell_type": "code",
   "execution_count": 13,
   "id": "d209cb12",
   "metadata": {},
   "outputs": [],
   "source": [
    "funcs = [\n",
    "    1/7, \n",
    "    2/5,\n",
    "    13/14, \n",
    "    Symbol('x') // 7\n",
    "]\n",
    "\n",
    "fx = build_Fx(list(range(0, 5)), funcs, mode='Fx')"
   ]
  },
  {
   "cell_type": "code",
   "execution_count": 14,
   "id": "30be1fbc",
   "metadata": {},
   "outputs": [
    {
     "data": {
      "image/png": "[encoded data removed]",
      "text/plain": [
       "<Figure size 640x480 with 1 Axes>"
      ]
     },
     "metadata": {},
     "output_type": "display_data"
    }
   ],
   "source": [
    "plot_fx_inf(fx)"
   ]
  },
  {
   "cell_type": "markdown",
   "id": "bba00027",
   "metadata": {},
   "source": [
    " "
   ]
  }
 ],
 "metadata": {
  "kernelspec": {
   "display_name": "Python 3 (ipykernel)",
   "language": "python",
   "name": "python3"
  },
  "language_info": {
   "codemirror_mode": {
    "name": "ipython",
    "version": 3
   },
   "file_extension": ".py",
   "mimetype": "text/x-python",
   "name": "python",
   "nbconvert_exporter": "python",
   "pygments_lexer": "ipython3",
   "version": "3.10.9"
  }
 },
 "nbformat": 4,
 "nbformat_minor": 5
}
